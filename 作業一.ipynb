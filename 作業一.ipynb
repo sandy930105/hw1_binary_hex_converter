{
  "nbformat": 4,
  "nbformat_minor": 0,
  "metadata": {
    "colab": {
      "provenance": []
    },
    "kernelspec": {
      "name": "python3",
      "display_name": "Python 3"
    },
    "language_info": {
      "name": "python"
    }
  },
  "cells": [
    {
      "cell_type": "code",
      "execution_count": null,
      "metadata": {
        "id": "ov4HriSKLUPy"
      },
      "outputs": [],
      "source": []
    },
    {
      "cell_type": "code",
      "source": [
        "def decimal_to_binary_hex(decimal_num):\n",
        "    if 0 <= decimal_num <= 255:\n",
        "        binary = \"\"\n",
        "        num = decimal_num\n",
        "        for _ in range(8):\n",
        "            binary = str(num % 2) + binary\n",
        "            num //= 2\n",
        "\n",
        "        hex_chars = \"0123456789ABCDEF\"\n",
        "        hexadecimal = \"\"\n",
        "        num = decimal_num\n",
        "        for _ in range(2):\n",
        "            hexadecimal = hex_chars[num % 16] + hexadecimal\n",
        "            num //= 16\n",
        "\n",
        "        return binary, hexadecimal\n",
        "    else:\n",
        "        raise ValueError(\"數字必須在 0 到 255 之間\")\n",
        "\n",
        "if __name__ == \"__main__\":\n",
        "    try:\n",
        "        decimal_input = int(input(\"請輸入 0-255 之間的數字: \"))\n",
        "        binary, hexadecimal = decimal_to_binary_hex(decimal_input)\n",
        "        print(f\"二進位: {binary}\")\n",
        "        print(f\"十六進位: {hexadecimal}\")\n",
        "    except ValueError as e:\n",
        "        print(f\"錯誤: {e}\")\n"
      ],
      "metadata": {
        "colab": {
          "base_uri": "https://localhost:8080/"
        },
        "id": "LHQHFWtPLVps",
        "outputId": "f06ac462-327d-48ad-fdbb-1bb3efa6080a"
      },
      "execution_count": 1,
      "outputs": [
        {
          "output_type": "stream",
          "name": "stdout",
          "text": [
            "請輸入 0-255 之間的數字: 2\n",
            "二進位: 00000010\n",
            "十六進位: 02\n"
          ]
        }
      ]
    }
  ]
}